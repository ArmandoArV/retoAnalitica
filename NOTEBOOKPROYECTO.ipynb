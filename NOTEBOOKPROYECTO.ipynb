{
 "cells": [
  {
   "cell_type": "markdown",
   "metadata": {},
   "source": [
    "    ANALYTICS MAIN\n",
    "    \n",
    "    Note: We're simply focusing on USA due it's the nearest country to Mexico, here we could theorize how it could,\n",
    "    affect the economy in Mexico.\n",
    "    "
   ]
  },
  {
   "cell_type": "markdown",
   "metadata": {},
   "source": [
    "Here we simply add the libraries:"
   ]
  },
  {
   "cell_type": "code",
   "execution_count": 2,
   "metadata": {},
   "outputs": [],
   "source": [
    "import pandas as pd\n",
    "import numpy as np\n",
    "import statistics as stat"
   ]
  },
  {
   "cell_type": "markdown",
   "metadata": {},
   "source": [
    "Here we read the csv file:"
   ]
  },
  {
   "cell_type": "code",
   "execution_count": 3,
   "metadata": {},
   "outputs": [],
   "source": [
    "usa = pd.read_csv(r\"DB\\United States 10-Year Bond Yield.csv\")"
   ]
  },
  {
   "cell_type": "markdown",
   "metadata": {},
   "source": [
    "Prints of the data frame and the first 5 rows of data:"
   ]
  },
  {
   "cell_type": "code",
   "execution_count": 4,
   "metadata": {},
   "outputs": [
    {
     "name": "stdout",
     "output_type": "stream",
     "text": [
      "              Date  Price   Open   High    Low  Change %\n",
      "0     Sep 18, 2009  3.469  3.469  3.469  3.469      2.48\n",
      "1     Sep 17, 2009  3.385  3.385  3.385  3.385     -2.59\n",
      "2     Sep 16, 2009  3.475  3.475  3.475  3.475      0.81\n",
      "3     Sep 15, 2009  3.447  3.447  3.447  3.447      0.70\n",
      "4     Sep 14, 2009  3.423  3.423  3.423  3.423      2.21\n",
      "...            ...    ...    ...    ...    ...       ...\n",
      "4995  Jan 12, 1990  8.106  8.106  8.106  8.106      0.65\n",
      "4996  Jan 11, 1990  8.054  8.054  8.054  8.054      0.41\n",
      "4997  Jan 10, 1990  8.021  8.021  8.021  8.021      0.00\n",
      "4998  Jan 09, 1990  8.021  8.021  8.021  8.021     -0.06\n",
      "4999  Jan 08, 1990  8.026  8.026  8.026  8.026      1.17\n",
      "\n",
      "[5000 rows x 6 columns]\n",
      "           Date  Price   Open   High    Low  Change %\n",
      "0  Sep 18, 2009  3.469  3.469  3.469  3.469      2.48\n",
      "1  Sep 17, 2009  3.385  3.385  3.385  3.385     -2.59\n",
      "2  Sep 16, 2009  3.475  3.475  3.475  3.475      0.81\n",
      "3  Sep 15, 2009  3.447  3.447  3.447  3.447      0.70\n",
      "4  Sep 14, 2009  3.423  3.423  3.423  3.423      2.21\n",
      "5  Sep 11, 2009  3.349  3.349  3.349  3.349     -0.15\n"
     ]
    }
   ],
   "source": [
    "print(usa) \n",
    "print(usa.head(6))"
   ]
  },
  {
   "cell_type": "markdown",
   "metadata": {},
   "source": [
    "Dataframe:"
   ]
  },
  {
   "cell_type": "code",
   "execution_count": 5,
   "metadata": {},
   "outputs": [],
   "source": [
    "PriceUSA = usa['Price'] # Dataframe for the price\n",
    "ChangeUSA = usa['Change %'] # Dataframe for the Change in percentage"
   ]
  },
  {
   "cell_type": "markdown",
   "metadata": {},
   "source": [
    "Statistics:"
   ]
  },
  {
   "cell_type": "code",
   "execution_count": 6,
   "metadata": {},
   "outputs": [],
   "source": [
    "# Change\n",
    "AvChange = ChangeUSA.mean()\n",
    "MAXChange = np.max(ChangeUSA)\n",
    "MINChange = np.min(ChangeUSA)\n",
    "RanChange = MAXChange-MINChange\n",
    "VarChange = stat.variance(ChangeUSA)\n",
    "ModChange = stat.mode(ChangeUSA)\n",
    "SUMChange = np.sum(ChangeUSA)\n",
    "# Price\n",
    "AvPrice = np.average(PriceUSA)\n",
    "MAXPrice = np.max(PriceUSA)\n",
    "MINPrice = np.min(PriceUSA)\n",
    "RanPrice = MAXPrice-MINPrice\n",
    "VarPrice = stat.variance(PriceUSA)\n",
    "ModPrice = stat.mode(PriceUSA)\n",
    "SUMPrice = np.sum(PriceUSA)"
   ]
  },
  {
   "cell_type": "markdown",
   "metadata": {},
   "source": [
    "Print of the information:"
   ]
  },
  {
   "cell_type": "code",
   "execution_count": 7,
   "metadata": {},
   "outputs": [
    {
     "name": "stdout",
     "output_type": "stream",
     "text": [
      " \n",
      "STATISTICS:\n",
      "___________________________________________________ \n",
      " \n",
      "COLUMN PRICE: \n",
      " \n",
      "Average of prices:  5.561699\n",
      "Max value of the price column:  9.073\n",
      "Min value of the price column:  2.056\n",
      "Range of the price column:  7.017\n",
      "Variance of the price column:  2.0189100023994797\n",
      "Mode of the price column:  6.56\n",
      "SUM of the price column:  27808.495\n",
      "___________________________________________________\n",
      "COLUMN CHANGE: \n",
      " \n",
      "Average of change:  -0.007020000000000003\n",
      "Max value of the change column:  7.98\n",
      "Min value of the change column -15.44\n",
      "Range of the change column: 23.42\n",
      "Variance of the change column:  1.8970442884576915\n",
      "Mode of the change column:  0.0\n",
      "SUM of the change column:  -35.100000000000016\n",
      " \n"
     ]
    }
   ],
   "source": [
    "print(\" \")\n",
    "print(\"STATISTICS:\") # Simply a title\n",
    "print(\"___________________________________________________ \")\n",
    "print(\" \")\n",
    "print(\"COLUMN PRICE: \")\n",
    "print(\" \")\n",
    "print(\"Average of prices: \",AvPrice)\n",
    "print(\"Max value of the price column: \",MAXPrice)\n",
    "print(\"Min value of the price column: \",MINPrice)\n",
    "print(\"Range of the price column: \",RanPrice)\n",
    "print(\"Variance of the price column: \",VarPrice)\n",
    "print(\"Mode of the price column: \",ModPrice)\n",
    "print(\"SUM of the price column: \",SUMPrice)\n",
    "print(\"___________________________________________________\")\n",
    "print(\"COLUMN CHANGE: \")\n",
    "print(\" \")\n",
    "print(\"Average of change: \",AvChange)\n",
    "print(\"Max value of the change column: \",MAXChange)\n",
    "print(\"Min value of the change column\",MINChange)\n",
    "print(\"Range of the change column:\",RanChange)\n",
    "print(\"Variance of the change column: \",VarChange)\n",
    "print(\"Mode of the change column: \",ModChange)\n",
    "print(\"SUM of the change column: \",SUMChange)\n",
    "print(\" \")"
   ]
  }
 ],
 "metadata": {
  "interpreter": {
   "hash": "2adaf088eb72c965df62e02774ecc0e10793c691ece41b38039e70a46e7baaa6"
  },
  "kernelspec": {
   "display_name": "Python 3.9.12 64-bit (windows store)",
   "language": "python",
   "name": "python3"
  },
  "language_info": {
   "codemirror_mode": {
    "name": "ipython",
    "version": 3
   },
   "file_extension": ".py",
   "mimetype": "text/x-python",
   "name": "python",
   "nbconvert_exporter": "python",
   "pygments_lexer": "ipython3",
   "version": "3.9.12"
  },
  "orig_nbformat": 4
 },
 "nbformat": 4,
 "nbformat_minor": 2
}
